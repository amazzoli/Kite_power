{
 "cells": [
  {
   "cell_type": "code",
   "execution_count": 1,
   "metadata": {},
   "outputs": [],
   "source": [
    "import os\n",
    "import subprocess\n",
    "import numpy as np\n",
    "import matplotlib.pyplot as plt\n",
    "import utils as ut\n",
    "\n",
    "system_name = 'kite3d'\n",
    "run_name = 'eval_fix'\n",
    "data_dir = '../data/'+system_name+'/'+run_name+'/'\n",
    "plot_dir = '../plots/'+system_name+'/'+run_name+'/'"
   ]
  },
  {
   "cell_type": "markdown",
   "metadata": {},
   "source": [
    "## Evaluate the 3d kite at fixed attack angle for different angles"
   ]
  },
  {
   "cell_type": "code",
   "execution_count": 69,
   "metadata": {},
   "outputs": [],
   "source": [
    "params = dict()\n",
    "\n",
    "# ENVIRONMENT PARAMETERS\n",
    "env_params = dict()\n",
    "env_params['int_steps'] = 0.0005 # sec\n",
    "env_params['ep_length'] = 3 # sec\n",
    "env_params['decision_time'] = 0.01 # sec\n",
    "env_params['init_theta'] = np.pi/2 # rad\n",
    "env_params['init_dtheta'] = 0 # rad\n",
    "env_params['init_phi'] = 0 # rad\n",
    "env_params['init_dphi'] = 0 # rad\n",
    "# attack angles\n",
    "env_params['alphas'] = [-4, 0, 4, 8, 12, 14, 16, 18, 20]\n",
    "env_params['CL_alphas'] = [0.05, 0.35, 0.55, 0.75, 0.9, 1.0, 1.08, 1.1, 1.05]\n",
    "env_params['CD_alphas'] = [0.001, 0.01, 0.03, 0.07, 0.1, 0.13, 0.18, 0.18, 0.21]\n",
    "env_params['init_alpha'] = len(env_params['alphas'])-1\n",
    "# bank angles\n",
    "env_params['banks'] = np.deg2rad([-8,-6,-4,-2,-1,0,1,2,4,6,8])\n",
    "env_params['init_bank'] = int(len(env_params['banks'])/2) # index\n",
    "# wind\n",
    "env_params['wind_type'] = 'const'\n",
    "env_params['v_wind_x'] = 10 # m/sec\n",
    "env_params['v_wind_y'] = 0 # m/sec\n",
    "env_params['v_wind_z'] = 0 # m/sec\n",
    "\n",
    "# EVALUATION PARAMETERS\n",
    "params['alg_type'] = 'eval'\n",
    "params['ev_time'] = env_params['ep_length'] # sec\n",
    "params['n_steps'] = params['ev_time']/env_params['decision_time']+1\n",
    "params['traj_points'] = params['n_steps']\n",
    "params['policy_path'] = data_dir+'/best_policy.txt'\n",
    "params['gamma'] = 1"
   ]
  },
  {
   "cell_type": "code",
   "execution_count": 70,
   "metadata": {},
   "outputs": [],
   "source": [
    "# WRITING THE PARAMETERS\n",
    "ut.write_params(params, data_dir, 'param_alg.txt')\n",
    "ut.write_params(env_params, data_dir, 'param_env.txt')"
   ]
  },
  {
   "cell_type": "code",
   "execution_count": 71,
   "metadata": {},
   "outputs": [],
   "source": [
    "def write_policy(alpha, bank):\n",
    "    file = open(data_dir + \"/best_policy.txt\", \"w\")\n",
    "    for a in range(len(env_params['alphas'])):\n",
    "        for b in range(len(env_params['banks'])):\n",
    "            if a > alpha and b > bank:\n",
    "                file.write(\"1 0 0 0 0 0 0 0\\n\")\n",
    "            elif a > alpha and b == bank:\n",
    "                file.write(\"0 1 0 0 0 0 0 0\\n\")\n",
    "            elif a > alpha and b < bank:\n",
    "                file.write(\"0 0 1 0 0 0 0 0\\n\")\n",
    "            elif a == alpha and b > bank:\n",
    "                file.write(\"0 0 0 1 0 0 0 0\\n\")\n",
    "            elif a == alpha and b == bank:\n",
    "                file.write(\"0 0 0 0 1 0 0 0\\n\")\n",
    "            elif a == alpha and b < bank:\n",
    "                file.write(\"0 0 0 0 0 1 0 0\\n\")\n",
    "            elif a < alpha and b > bank:\n",
    "                file.write(\"0 0 0 0 0 0 1 0\\n\")\n",
    "            elif a < alpha and b == bank:\n",
    "                file.write(\"0 0 0 0 0 0 0 1\\n\")\n",
    "            else:\n",
    "                file.write(\"0 0 0 0 0 0 0 0\\n\")\n",
    "    file.close()"
   ]
  },
  {
   "cell_type": "code",
   "execution_count": 72,
   "metadata": {},
   "outputs": [],
   "source": [
    "def execute():\n",
    "    p = subprocess.Popen([\"./run.exe\", system_name, run_name], \\\n",
    "                           stdout=subprocess.PIPE, stderr=subprocess.PIPE)"
   ]
  },
  {
   "cell_type": "code",
   "execution_count": 73,
   "metadata": {},
   "outputs": [],
   "source": [
    "def comp_av_return():\n",
    "    traj, labels = ut.read_traj(data_dir + \"return_traj.txt\")\n",
    "    return traj[:,0].mean()"
   ]
  },
  {
   "cell_type": "code",
   "execution_count": 74,
   "metadata": {},
   "outputs": [],
   "source": [
    "traj_x, traj_y, traj_z = [], [], []\n",
    "alphas, banks = [], []"
   ]
  },
  {
   "cell_type": "code",
   "execution_count": 75,
   "metadata": {},
   "outputs": [],
   "source": [
    "alpha, bank = len(env_params['alphas'])-1, int(len(env_params['banks'])/2)-1\n",
    "write_policy(alpha, bank)\n",
    "alphas.append(alpha)\n",
    "banks.append(bank)"
   ]
  },
  {
   "cell_type": "code",
   "execution_count": 76,
   "metadata": {},
   "outputs": [
    {
     "data": {
      "text/plain": [
       "17.773"
      ]
     },
     "execution_count": 76,
     "metadata": {},
     "output_type": "execute_result"
    }
   ],
   "source": [
    "execute()\n",
    "comp_av_return()"
   ]
  },
  {
   "cell_type": "code",
   "execution_count": 77,
   "metadata": {},
   "outputs": [],
   "source": [
    "st_traj, st_labels = ut.read_traj(data_dir + \"/ev_states.txt\")\n",
    "xs = np.linspace(0, params['ev_time'], num=len(st_traj[:,0]))\n",
    "traj_x.append(st_traj[:,0])\n",
    "traj_y.append(st_traj[:,1])\n",
    "traj_z.append(st_traj[:,2])"
   ]
  },
  {
   "cell_type": "code",
   "execution_count": 83,
   "metadata": {},
   "outputs": [
    {
     "data": {
      "image/png": "[encoded data removed]",
      "text/plain": [
       "<Figure size 432x288 with 1 Axes>"
      ]
     },
     "metadata": {
      "needs_background": "light"
     },
     "output_type": "display_data"
    }
   ],
   "source": [
    "plt.xlabel('Time, seconds')\n",
    "plt.ylabel('Kite x, meters')\n",
    "for i in range(len(traj_x)):\n",
    "    plt.plot(xs, traj_x[i], label=r'$\\alpha$='+str(env_params['alphas'][alphas[i]])+\\\n",
    "             \", $\\phi$=\"+str(env_params['banks'][banks[i]]))\n",
    "plt.legend()\n",
    "#plt.savefig(plot_dir + \"/kite_x_traj_banks.png\", dpi=200)\n",
    "plt.savefig(plot_dir + \"/traj_mia_x.png\", dpi=200)"
   ]
  },
  {
   "cell_type": "code",
   "execution_count": 86,
   "metadata": {},
   "outputs": [
    {
     "data": {
      "image/png": "[encoded data removed]",
      "text/plain": [
       "<Figure size 432x288 with 1 Axes>"
      ]
     },
     "metadata": {
      "needs_background": "light"
     },
     "output_type": "display_data"
    }
   ],
   "source": [
    "plt.xlabel('Time, seconds')\n",
    "plt.ylabel('Kite y, meters')\n",
    "for i in range(len(traj_y)):\n",
    "    plt.plot(xs, traj_y[i], label=r'$\\alpha$='+str(env_params['alphas'][alphas[i]])+\\\n",
    "             \", $\\phi$=\"+str(env_params['banks'][banks[i]]))\n",
    "plt.legend()\n",
    "#plt.savefig(plot_dir + \"/kite_y_traj_banks.png\", dpi=200)\n",
    "plt.savefig(plot_dir + \"/traj_mia_y.png\", dpi=200)"
   ]
  },
  {
   "cell_type": "code",
   "execution_count": 87,
   "metadata": {},
   "outputs": [
    {
     "data": {
      "image/png": "[encoded data removed]",
      "text/plain": [
       "<Figure size 432x288 with 1 Axes>"
      ]
     },
     "metadata": {
      "needs_background": "light"
     },
     "output_type": "display_data"
    }
   ],
   "source": [
    "plt.xlabel('Time, seconds')\n",
    "plt.ylabel('Kite z, meters')\n",
    "for i in range(len(traj_x)):\n",
    "    plt.plot(xs, traj_z[i], label=r'$\\alpha$='+str(env_params['alphas'][alphas[i]])+\\\n",
    "             \", $\\phi$=\"+str(env_params['banks'][banks[i]]))\n",
    "plt.legend()\n",
    "#plt.savefig(plot_dir + \"/kite_z_traj_banks.png\", dpi=200)\n",
    "plt.savefig(plot_dir + \"/traj_mia_z.png\", dpi=200)"
   ]
  },
  {
   "cell_type": "code",
   "execution_count": 11,
   "metadata": {},
   "outputs": [],
   "source": [
    "f_nic = open('../data/kite3d/nicole_out.txt')\n",
    "f_nic.readline()\n",
    "t_nic, x_nic, y_nic, z_nic = [], [], []\n",
    "traj_step=100\n",
    "count = 1\n",
    "for l in f_nic.readlines():\n",
    "    if count % traj_step == 0:\n",
    "        a = l.split(',')\n",
    "        x_nic.append(float(a[1]))\n",
    "        y_nic.append(float(a[2]))\n",
    "        z_nic.append(float(a[3]))\n",
    "    count+=1"
   ]
  },
  {
   "cell_type": "code",
   "execution_count": 88,
   "metadata": {},
   "outputs": [
    {
     "data": {
      "image/png": "[encoded data removed]",
      "text/plain": [
       "<Figure size 432x288 with 1 Axes>"
      ]
     },
     "metadata": {
      "needs_background": "light"
     },
     "output_type": "display_data"
    }
   ],
   "source": [
    "plt.plot(z_nic)\n",
    "plt.savefig(plot_dir + \"/traj_nic_z.png\", dpi=200)"
   ]
  },
  {
   "cell_type": "code",
   "execution_count": 19,
   "metadata": {},
   "outputs": [
    {
     "data": {
      "text/plain": [
       "[0.270171,\n",
       " 0.574172,\n",
       " 0.900671,\n",
       " 1.237216,\n",
       " 1.572413,\n",
       " 1.897352,\n",
       " 2.206045,\n",
       " 2.495151,\n",
       " 2.763349,\n",
       " 3.010701,\n",
       " 3.238102,\n",
       " 3.446898,\n",
       " 3.638622,\n",
       " 3.814839,\n",
       " 3.977053,\n",
       " 4.126665,\n",
       " 4.264945,\n",
       " 4.39304,\n",
       " 4.511969,\n",
       " 4.622637,\n",
       " 4.725844,\n",
       " 4.822299,\n",
       " 4.912629,\n",
       " 4.997388,\n",
       " 5.077068,\n",
       " 5.152104,\n",
       " 5.222884,\n",
       " 5.289756,\n",
       " 5.353027,\n",
       " 5.412973,\n",
       " 5.469843,\n",
       " 5.52386,\n",
       " 5.575224,\n",
       " 5.624115,\n",
       " 5.670698,\n",
       " 5.715121,\n",
       " 5.757517,\n",
       " 5.798009,\n",
       " 5.836708,\n",
       " 5.873714,\n",
       " 5.909119,\n",
       " 5.943008,\n",
       " 5.975456,\n",
       " 6.006535,\n",
       " 6.036307,\n",
       " 6.064831,\n",
       " 6.092162,\n",
       " 6.118346,\n",
       " 6.14343,\n",
       " 6.167454,\n",
       " 6.190455,\n",
       " 6.212466,\n",
       " 6.233518,\n",
       " 6.253638,\n",
       " 6.272852,\n",
       " 6.29118,\n",
       " 6.308643,\n",
       " 6.325258,\n",
       " 6.341038,\n",
       " 6.355995,\n",
       " 6.370141,\n",
       " 6.383481,\n",
       " 6.396021,\n",
       " 6.407763,\n",
       " 6.418708,\n",
       " 6.428854,\n",
       " 6.438195,\n",
       " 6.446726,\n",
       " 6.454435,\n",
       " 6.461313,\n",
       " 6.467343,\n",
       " 6.47251,\n",
       " 6.476793,\n",
       " 6.480171,\n",
       " 6.48262,\n",
       " 6.484113,\n",
       " 6.484623,\n",
       " 6.484117,\n",
       " 6.482564,\n",
       " 6.479929,\n",
       " 6.476175,\n",
       " 6.471266,\n",
       " 6.465163,\n",
       " 6.457824,\n",
       " 6.44921,\n",
       " 6.43928,\n",
       " 6.42799,\n",
       " 6.415301,\n",
       " 6.40117,\n",
       " 6.385557,\n",
       " 6.368423,\n",
       " 6.349731,\n",
       " 6.329443,\n",
       " 6.307528,\n",
       " 6.283953,\n",
       " 6.258692,\n",
       " 6.23172,\n",
       " 6.203018,\n",
       " 6.172571,\n",
       " 6.140367,\n",
       " 6.1064,\n",
       " 6.070671,\n",
       " 6.033185,\n",
       " 5.993951,\n",
       " 5.952985,\n",
       " 5.910311,\n",
       " 5.865954,\n",
       " 5.819947,\n",
       " 5.772329,\n",
       " 5.723141,\n",
       " 5.672431,\n",
       " 5.62025,\n",
       " 5.566653,\n",
       " 5.511698,\n",
       " 5.455446,\n",
       " 5.39796,\n",
       " 5.339305,\n",
       " 5.279545,\n",
       " 5.218749,\n",
       " 5.156982,\n",
       " 5.094311,\n",
       " 5.030801,\n",
       " 4.966518,\n",
       " 4.901524,\n",
       " 4.835881,\n",
       " 4.769648,\n",
       " 4.702883,\n",
       " 4.63564,\n",
       " 4.567971,\n",
       " 4.499927,\n",
       " 4.431553,\n",
       " 4.362895,\n",
       " 4.293993,\n",
       " 4.224885,\n",
       " 4.155609,\n",
       " 4.086196,\n",
       " 4.016677,\n",
       " 3.947081,\n",
       " 3.877432,\n",
       " 3.807754,\n",
       " 3.738068,\n",
       " 3.668392,\n",
       " 3.598743,\n",
       " 3.529137,\n",
       " 3.459586,\n",
       " 3.390101,\n",
       " 3.320693,\n",
       " 3.25137,\n",
       " 3.18214,\n",
       " 3.113007,\n",
       " 3.043976,\n",
       " 2.975053,\n",
       " 2.906238,\n",
       " 2.837534,\n",
       " 2.768942,\n",
       " 2.700462,\n",
       " 2.632094,\n",
       " 2.563836,\n",
       " 2.495689,\n",
       " 2.427649,\n",
       " 2.359714,\n",
       " 2.291882,\n",
       " 2.22415,\n",
       " 2.156514,\n",
       " 2.088971,\n",
       " 2.021517,\n",
       " 1.954148,\n",
       " 1.886861,\n",
       " 1.819651,\n",
       " 1.752515,\n",
       " 1.685447,\n",
       " 1.618445,\n",
       " 1.551503,\n",
       " 1.484617,\n",
       " 1.417784,\n",
       " 1.350999,\n",
       " 1.284258,\n",
       " 1.217557,\n",
       " 1.150892,\n",
       " 1.084259,\n",
       " 1.017655,\n",
       " 0.951076,\n",
       " 0.884518,\n",
       " 0.817979,\n",
       " 0.751454,\n",
       " 0.68494,\n",
       " 0.618436,\n",
       " 0.551937,\n",
       " 0.485441,\n",
       " 0.418945,\n",
       " 0.352447,\n",
       " 0.285945,\n",
       " 0.219436,\n",
       " 0.152919,\n",
       " 0.086391,\n",
       " 0.01985]"
      ]
     },
     "execution_count": 19,
     "metadata": {},
     "output_type": "execute_result"
    }
   ],
   "source": [
    "z_nic"
   ]
  },
  {
   "cell_type": "code",
   "execution_count": null,
   "metadata": {},
   "outputs": [],
   "source": []
  }
 ],
 "metadata": {
  "kernelspec": {
   "display_name": "Python 3",
   "language": "python",
   "name": "python3"
  },
  "language_info": {
   "codemirror_mode": {
    "name": "ipython",
    "version": 3
   },
   "file_extension": ".py",
   "mimetype": "text/x-python",
   "name": "python",
   "nbconvert_exporter": "python",
   "pygments_lexer": "ipython3",
   "version": "3.6.6"
  }
 },
 "nbformat": 4,
 "nbformat_minor": 2
}
