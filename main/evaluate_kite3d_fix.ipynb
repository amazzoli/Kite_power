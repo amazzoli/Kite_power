{
 "cells": [
  {
   "cell_type": "code",
   "execution_count": 1,
   "metadata": {},
   "outputs": [],
   "source": [
    "import os\n",
    "import subprocess\n",
    "import numpy as np\n",
    "import matplotlib.pyplot as plt\n",
    "import utils as ut\n",
    "\n",
    "system_name = 'kite3d'\n",
    "run_name = 'prova'\n",
    "data_dir = '../data/'+system_name+'/'+run_name+'/'\n",
    "plot_dir = '../plots/'+system_name+'/'+run_name+'/'"
   ]
  },
  {
   "cell_type": "markdown",
   "metadata": {},
   "source": [
    "## Evaluate the 3d kite at fixed attack angle for different angles"
   ]
  },
  {
   "cell_type": "code",
   "execution_count": 55,
   "metadata": {},
   "outputs": [],
   "source": [
    "params = dict()\n",
    "\n",
    "# ENVIRONMENT PARAMETERS\n",
    "env_params = dict()\n",
    "env_params['int_steps'] = 0.0005 # sec\n",
    "env_params['ep_length'] = 200 # sec\n",
    "env_params['decision_time'] = 0.01 # sec\n",
    "env_params['init_theta'] = np.pi/4 # rad\n",
    "env_params['init_dtheta'] = 0 # rad\n",
    "env_params['init_alpha'] = 10 # index. Choosing alpha>=15 the initial attack angle is randomly chosen\n",
    "env_params['init_phi'] = 0 # rad\n",
    "env_params['init_dphi'] = 0 # rad\n",
    "env_params['init_bank'] = 6 # index\n",
    "# attack angles\n",
    "env_params['alphas'] = [-4, 0, 4, 8, 12, 14, 16, 18, 20]\n",
    "env_params['CL_alphas'] = [0.05, 0.35, 0.55, 0.75, 0.9, 1.0, 1.08, 1.1, 1.05]\n",
    "env_params['CD_alphas'] = [0.001, 0.01, 0.03, 0.07, 0.1, 0.13, 0.18, 0.18, 0.21]\n",
    "# wind\n",
    "env_params['wind_type'] = 'const'\n",
    "env_params['v_wind_x'] = 15 # m/sec\n",
    "env_params['v_wind_y'] = 0 # m/sec\n",
    "env_params['v_wind_z'] = 0 # m/sec\n",
    "\n",
    "# EVALUATION PARAMETERS\n",
    "params['ep_length'] = 200 # sec\n",
    "params['ev_time'] = 200 # sec\n",
    "params['traj_points'] = 1000\n",
    "params['gamma'] = 1"
   ]
  },
  {
   "cell_type": "code",
   "execution_count": 3,
   "metadata": {},
   "outputs": [],
   "source": [
    "# WRITING THE PARAMETERS\n",
    "ut.write_params(params, data_dir, 'param_ev.txt')\n",
    "ut.write_params(env_params, data_dir, 'param_env.txt')"
   ]
  },
  {
   "cell_type": "code",
   "execution_count": 4,
   "metadata": {},
   "outputs": [
    {
     "name": "stdout",
     "output_type": "stream",
     "text": [
      "To compile from terminal: \n",
      "g++ -o evaluate.exe evaluate.cpp ../lib/eval.cpp ../lib/utils.cpp ../lib/wind.cpp ../lib/envs/kite.cpp ../lib/envs/kite2d.cpp ../lib/envs/kite3d.cpp -std=c++17 \n"
     ]
    }
   ],
   "source": [
    "# COMPILING C++ SCRIPT\n",
    "comp_list = np.array([\"g++\", \"-o\", \"evaluate.exe\", \"evaluate.cpp\", \"../lib/eval.cpp\", \"../lib/utils.cpp\", \"../lib/wind.cpp\", \n",
    "                      \"../lib/envs/kite.cpp\", \"../lib/envs/kite2d.cpp\", \"../lib/envs/kite3d.cpp\", \"-std=c++17\"])\n",
    "comp_str = \"\"\n",
    "for s in comp_list: comp_str+=s+\" \"\n",
    "print('To compile from terminal: ')\n",
    "print(comp_str)"
   ]
  },
  {
   "cell_type": "code",
   "execution_count": 5,
   "metadata": {},
   "outputs": [],
   "source": [
    "def write_policy(alpha, bank):\n",
    "    file = open(data_dir + \"/best_policy.txt\", \"w\")\n",
    "    for a in range(15):\n",
    "        for b in range(13):\n",
    "            if a > alpha and b > bank:\n",
    "                file.write(\"1 0 0 0 0 0 0 0\\n\")\n",
    "            elif a > alpha and b == bank:\n",
    "                file.write(\"0 1 0 0 0 0 0 0\\n\")\n",
    "            elif a > alpha and b < bank:\n",
    "                file.write(\"0 0 1 0 0 0 0 0\\n\")\n",
    "            elif a == alpha and b > bank:\n",
    "                file.write(\"0 0 0 1 0 0 0 0\\n\")\n",
    "            elif a == alpha and b == bank:\n",
    "                file.write(\"0 0 0 0 1 0 0 0\\n\")\n",
    "            elif a == alpha and b < bank:\n",
    "                file.write(\"0 0 0 0 0 1 0 0\\n\")\n",
    "            elif a < alpha and b > bank:\n",
    "                file.write(\"0 0 0 0 0 0 1 0\\n\")\n",
    "            elif a < alpha and b == bank:\n",
    "                file.write(\"0 0 0 0 0 0 0 1\\n\")\n",
    "            else:\n",
    "                file.write(\"0 0 0 0 0 0 0 0\\n\")\n",
    "    file.close()"
   ]
  },
  {
   "cell_type": "code",
   "execution_count": 6,
   "metadata": {},
   "outputs": [],
   "source": [
    "def execute():\n",
    "    p = subprocess.Popen([\"./evaluate.exe\", system_name, run_name], \\\n",
    "                           stdout=subprocess.PIPE, stderr=subprocess.PIPE)"
   ]
  },
  {
   "cell_type": "code",
   "execution_count": 7,
   "metadata": {},
   "outputs": [],
   "source": [
    "def comp_av_return():\n",
    "    traj, labels = ut.read_traj(data_dir + \"/ev_return.txt\")\n",
    "    return traj[:,0].mean()"
   ]
  },
  {
   "cell_type": "code",
   "execution_count": 41,
   "metadata": {},
   "outputs": [],
   "source": [
    "traj_x, traj_y = [], []\n",
    "alphas = []"
   ]
  },
  {
   "cell_type": "code",
   "execution_count": 48,
   "metadata": {},
   "outputs": [],
   "source": [
    "alpha, bank = 13, 6\n",
    "write_policy(alpha, bank)\n",
    "alphas.append(alpha)"
   ]
  },
  {
   "cell_type": "code",
   "execution_count": 50,
   "metadata": {},
   "outputs": [
    {
     "data": {
      "text/plain": [
       "1272.16"
      ]
     },
     "execution_count": 50,
     "metadata": {},
     "output_type": "execute_result"
    }
   ],
   "source": [
    "execute()\n",
    "comp_av_return()"
   ]
  },
  {
   "cell_type": "code",
   "execution_count": 51,
   "metadata": {},
   "outputs": [],
   "source": [
    "st_traj, st_labels = ut.read_traj(data_dir + \"/ev_states.txt\")\n",
    "xs = np.linspace(0, params['ev_time'], num=len(st_traj[:,0]))"
   ]
  },
  {
   "cell_type": "code",
   "execution_count": 52,
   "metadata": {},
   "outputs": [
    {
     "data": {
      "text/plain": [
       "[<matplotlib.lines.Line2D at 0x168ccf5a828>]"
      ]
     },
     "execution_count": 52,
     "metadata": {},
     "output_type": "execute_result"
    },
    {
     "data": {
      "image/png": "[encoded data removed]",
      "text/plain": [
       "<Figure size 432x288 with 1 Axes>"
      ]
     },
     "metadata": {
      "needs_background": "light"
     },
     "output_type": "display_data"
    }
   ],
   "source": [
    "plt.xlabel('Time, seconds')\n",
    "plt.ylabel('Kite x, meters')\n",
    "plt.plot(xs, st_traj[:,0])\n",
    "#plt.savefig(plot_dir + system_name + '/' + run_name + \"/kite_x_traj2.png\", dpi=200)"
   ]
  },
  {
   "cell_type": "code",
   "execution_count": 53,
   "metadata": {},
   "outputs": [
    {
     "data": {
      "text/plain": [
       "[<matplotlib.lines.Line2D at 0x168ccfb0c88>]"
      ]
     },
     "execution_count": 53,
     "metadata": {},
     "output_type": "execute_result"
    },
    {
     "data": {
      "image/png": "[encoded data removed]",
      "text/plain": [
       "<Figure size 432x288 with 1 Axes>"
      ]
     },
     "metadata": {
      "needs_background": "light"
     },
     "output_type": "display_data"
    }
   ],
   "source": [
    "plt.xlabel('Time, seconds')\n",
    "plt.ylabel('Kite z, meters')\n",
    "plt.plot(xs, st_traj[:,1])\n",
    "#plt.savefig(plot_dir + system_name + '/' + run_name + \"/kite_y_traj2.png\", dpi=200)"
   ]
  },
  {
   "cell_type": "code",
   "execution_count": 54,
   "metadata": {},
   "outputs": [
    {
     "data": {
      "text/plain": [
       "1000"
      ]
     },
     "execution_count": 54,
     "metadata": {},
     "output_type": "execute_result"
    }
   ],
   "source": [
    "len(st_traj)"
   ]
  },
  {
   "cell_type": "code",
   "execution_count": null,
   "metadata": {},
   "outputs": [],
   "source": []
  },
  {
   "cell_type": "code",
   "execution_count": null,
   "metadata": {},
   "outputs": [],
   "source": []
  }
 ],
 "metadata": {
  "kernelspec": {
   "display_name": "Python 3",
   "language": "python",
   "name": "python3"
  },
  "language_info": {
   "codemirror_mode": {
    "name": "ipython",
    "version": 3
   },
   "file_extension": ".py",
   "mimetype": "text/x-python",
   "name": "python",
   "nbconvert_exporter": "python",
   "pygments_lexer": "ipython3",
   "version": "3.7.3"
  }
 },
 "nbformat": 4,
 "nbformat_minor": 2
}
