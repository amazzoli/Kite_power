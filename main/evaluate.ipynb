{
 "cells": [
  {
   "cell_type": "code",
   "execution_count": 5,
   "metadata": {},
   "outputs": [],
   "source": [
    "import subprocess\n",
    "system_name = 'kite2d'\n",
    "data_dir = '../data/'"
   ]
  },
  {
   "cell_type": "code",
   "execution_count": 36,
   "metadata": {},
   "outputs": [],
   "source": [
    "run_name = 'prova'\n",
    "\n",
    "params = dict()\n",
    "\n",
    "# EVALUATION PARAMETERS\n",
    "params['ev_time'] = 20 # sec\n",
    "params['traj_points'] = 1000\n",
    "params['gamma'] = 1"
   ]
  },
  {
   "cell_type": "code",
   "execution_count": 37,
   "metadata": {},
   "outputs": [],
   "source": [
    "# WRITING THE PARAMETERS\n",
    "f = open(data_dir + system_name + '/' + run_name + \"/ev_params.txt\", \"w\")\n",
    "for k,v in params.items():\n",
    "    f.write(k + \"\\t\" + str(v) + \"\\n\")\n",
    "f.close()"
   ]
  },
  {
   "cell_type": "code",
   "execution_count": 33,
   "metadata": {},
   "outputs": [
    {
     "name": "stdout",
     "output_type": "stream",
     "text": [
      "\n"
     ]
    }
   ],
   "source": [
    "# COMPILING C++ SCRIPT\n",
    "p = subprocess.Popen([\"g++\", \"-o\", \"evaluate.exe\", \"evaluate.cpp\", \"../lib/eval.cpp\", \"../lib/utils.cpp\", \n",
    "                      \"../lib/envs/kite.cpp\", \"../lib/envs/\"+system_name+\".cpp\", \"-std=c++17\"], \n",
    "                      stdout=subprocess.PIPE, stderr=subprocess.PIPE)\n",
    "print(p.communicate()[1].decode('utf-8'))\n",
    "#print(p.communicate()[1].decode('utf-8'))"
   ]
  },
  {
   "cell_type": "code",
   "execution_count": 20,
   "metadata": {},
   "outputs": [
    {
     "name": "stdout",
     "output_type": "stream",
     "text": [
      "1100 2 500\r\n",
      "0%\r\n",
      "10%\r\n",
      "20%\r\n",
      "30%\r\n",
      "40%\r\n",
      "50%\r\n",
      "60%\r\n",
      "70%\r\n",
      "80%\r\n",
      "90%\r\n",
      "100%\r\n",
      "\n"
     ]
    }
   ],
   "source": [
    "# EXECUTING THE SCRIPT\n",
    "p = subprocess.Popen([\"./evaluate.exe\", system_name, run_name], \\\n",
    "                           stdout=subprocess.PIPE, stderr=subprocess.PIPE)\n",
    "#print(p.communicate()[0].decode('utf-8'))\n",
    "print(p.stdout.read().decode('utf-8'))"
   ]
  },
  {
   "cell_type": "code",
   "execution_count": null,
   "metadata": {},
   "outputs": [],
   "source": []
  }
 ],
 "metadata": {
  "kernelspec": {
   "display_name": "Python 3",
   "language": "python",
   "name": "python3"
  },
  "language_info": {
   "codemirror_mode": {
    "name": "ipython",
    "version": 3
   },
   "file_extension": ".py",
   "mimetype": "text/x-python",
   "name": "python",
   "nbconvert_exporter": "python",
   "pygments_lexer": "ipython3",
   "version": "3.7.3"
  }
 },
 "nbformat": 4,
 "nbformat_minor": 2
}
