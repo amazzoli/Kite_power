{
 "cells": [
  {
   "cell_type": "code",
   "execution_count": 11,
   "metadata": {
    "collapsed": true
   },
   "outputs": [],
   "source": [
    "import numpy as np\n",
    "import matplotlib as mpl\n",
    "import matplotlib.pyplot as plt\n",
    "import utils as ut\n",
    "\n",
    "system_name = 'kite3d_couetteframe'\n",
    "run_name = 'et_00'\n",
    "data_dir = '../data/' + system_name + '/' + run_name + '/'"
   ]
  },
  {
   "cell_type": "code",
   "execution_count": 12,
   "metadata": {
    "collapsed": true
   },
   "outputs": [],
   "source": [
    "names_list = ['kite2d', 'kite3d', 'kite2d_vrel', 'kite3d_vrel', 'kite3d_lin', 'kite3d_couetteframe', 'kite3d_turbo']\n",
    "if system_name not in names_list:\n",
    "    print('Warning: invalid system name')"
   ]
  },
  {
   "cell_type": "markdown",
   "metadata": {},
   "source": [
    "## Environment"
   ]
  },
  {
   "cell_type": "markdown",
   "metadata": {},
   "source": [
    "### General parameters"
   ]
  },
  {
   "cell_type": "code",
   "execution_count": 13,
   "metadata": {
    "collapsed": true
   },
   "outputs": [],
   "source": [
    "env_params = dict()\n",
    "\n",
    "# TIME\n",
    "env_params['int_steps'] = 0.001 # sec\n",
    "env_params['ep_length'] = 200 # sec\n",
    "env_params['ep_length_eval'] = 1000 # sec\n",
    "env_params['decision_time'] = 0.25 # sec\n",
    "\n",
    "# ATTACK ANGLE\n",
    "env_params['alphas'] =    [6,    8,    10,   12,  14,   16,   18,   20]\n",
    "env_params['CL_alphas'] = [0.65, 0.75, 0.82, 0.9, 1.0,  1.08, 1.1,  1.05]\n",
    "env_params['CD_alphas'] = [0.05, 0.07, 0.09, 0.1, 0.13, 0.18, 0.18, 0.21]\n",
    "\n",
    "# INIT COND\n",
    "env_params['init_theta'] = np.pi/4 # rad\n",
    "env_params['init_dtheta'] = 0 # rad\n",
    "env_params['init_alpha'] = len(env_params['alphas'])-1 # index, if larger than len it's random"
   ]
  },
  {
   "cell_type": "markdown",
   "metadata": {},
   "source": [
    "### Specific params"
   ]
  },
  {
   "cell_type": "code",
   "execution_count": 15,
   "metadata": {
    "collapsed": true
   },
   "outputs": [],
   "source": [
    "# RELATIVE VELOCITY AS OBSERVABLE\n",
    "if system_name != 'kite2d' and system_name != 'kite3d':\n",
    "    env_params['beta_bins'] = np.linspace(-np.pi, np.pi, 15)\n",
    "    \n",
    "# 3D KITE\n",
    "if system_name != 'kite2d' and system_name != 'kite2d_vrel':\n",
    "\n",
    "    # BANK ANGLES\n",
    "    env_params['banks'] = np.deg2rad([-15,-12,-9,-6,-3,0,3,6,9,12,15])\n",
    "  \n",
    "    # INIT COND\n",
    "    env_params['init_bank'] = int(len(env_params['banks'])/2) # index\n",
    "    env_params['init_phi'] = 0 # rad\n",
    "    env_params['init_dphi'] = 0 # rad\n",
    "    env_params['init_xblock'] = 0 # m\n",
    "    env_params['init_yblock'] = 0 # m"
   ]
  },
  {
   "cell_type": "markdown",
   "metadata": {},
   "source": [
    "### Wind"
   ]
  },
  {
   "cell_type": "code",
   "execution_count": 16,
   "metadata": {
    "collapsed": true
   },
   "outputs": [],
   "source": [
    "# CONSTANT WIND\n",
    "if system_name == 'kite2d' or system_name == 'kite3d' or system_name == 'kite3d_vrel':\n",
    "    env_params['wind_type'] = 'const' # 'const' for constant, 'stream' for the stream function\n",
    "    env_params['v_wind_x'] = 12 # m/sec\n",
    "    env_params['v_wind_y'] = 0 # m/sec\n",
    "    env_params['v_wind_z'] = 0 # m/sec\n",
    "    \n",
    "# 2D STREAM FUNCTION\n",
    "elif system_name == 'kite2d_vrel':\n",
    "    env_params['wind_type'] = 'stream'\n",
    "    env_params['k_wind'] = 0.5 # 1/sec\n",
    "    env_params['eps_wind'] = 0.2\n",
    "    \n",
    "# LINEAR PROFILE\n",
    "elif system_name == 'kite3d_lin':\n",
    "    env_params['wind_type'] = 'lin'\n",
    "    env_params['v_ground'] = 8 # 1/sec\n",
    "    env_params['v_ang_coef'] = 0.14\n",
    "    \n",
    "# TURBULENT FRAME\n",
    "elif system_name == 'kite3d_couetteframe':\n",
    "    env_params['wind_type'] = 'turboframe'\n",
    "    env_params['wind_amplification'] = 1\n",
    "    env_params['windv_file_path'] = \"../data/kite3d_couetteframe/v.txt\"\n",
    "    env_params['windq_file_path'] = \"../data/kite3d_couetteframe/q.txt\"\n",
    "\n",
    "# TURBULENCE\n",
    "elif system_name == 'kite3d_turbo':\n",
    "    env_params['wind_type'] = 'turbo'\n",
    "    env_params['wind_amplification'] = 1\n",
    "    env_params['windv_file_dir'] = '../data/kite3d_turbo/v/'\n",
    "    env_params['windv_file_name'] = 'velocities'\n",
    "    env_params['windq_file_path'] = '../data/kite3d_turbo/q.txt'\n",
    "    env_params['start_frame'] = 1000\n",
    "\n",
    "else:\n",
    "    print('Invalid environment')"
   ]
  },
  {
   "cell_type": "markdown",
   "metadata": {},
   "source": [
    "## Algorithm"
   ]
  },
  {
   "cell_type": "markdown",
   "metadata": {},
   "source": [
    "### Algorithm type"
   ]
  },
  {
   "cell_type": "code",
   "execution_count": 17,
   "metadata": {
    "collapsed": true
   },
   "outputs": [],
   "source": [
    "alg_params = dict()\n",
    "alg_params['alg_type'] = 'et'\n",
    "\n",
    "if alg_params['alg_type'] == 'et':\n",
    "    alg_params['lambda'] = 0.9 # Specific of eligibity traces\n",
    "\n",
    "if alg_params['alg_type'] not in ['sarsa', 'ac', 'nac', 'et']:\n",
    "    print('Warning: invalid system name')"
   ]
  },
  {
   "cell_type": "markdown",
   "metadata": {},
   "source": [
    "### General parameters"
   ]
  },
  {
   "cell_type": "code",
   "execution_count": 18,
   "metadata": {},
   "outputs": [
    {
     "name": "stdout",
     "output_type": "stream",
     "text": [
      "Seconds of learning:  75000000.0\n",
      "Seconds of evaluation:  5000.0\n"
     ]
    }
   ],
   "source": [
    "# DISC FACTOR\n",
    "alg_params['gamma'] = 1.0\n",
    "\n",
    "# TIME\n",
    "alg_params['n_steps'] = 300000000 # Number of training steps\n",
    "print('Seconds of learning: ', alg_params['n_steps']*env_params['decision_time'])\n",
    "alg_params['traj_points'] = 200\n",
    "alg_params['eval_steps'] = 20000\n",
    "print('Seconds of evaluation: ', alg_params['eval_steps']*env_params['decision_time'])\n",
    "#alg_params['traj_states'] = [0] # Comment to store the qualities in the trajectory\n",
    "\n",
    "# LEARNING RATE\n",
    "alg_params['lr0'] = 0.01\n",
    "alg_params['lrc'] = alg_params['n_steps'] / 800\n",
    "alg_params['lr_expn'] = 0.8\n",
    "alg_params['lr_burn'] = alg_params['n_steps'] / 1.5\n",
    "\n",
    "# EXPLORATION\n",
    "alg_params['eps0'] = 0.001\n",
    "alg_params['epsc'] = alg_params['n_steps'] / 150\n",
    "alg_params['eps_expn'] = 1\n",
    "alg_params['eps_burn'] = alg_params['n_steps'] / 2"
   ]
  },
  {
   "cell_type": "code",
   "execution_count": 19,
   "metadata": {},
   "outputs": [
    {
     "data": {
      "image/png": "[encoded data removed]",
      "text/plain": [
       "<matplotlib.figure.Figure at 0x1120eedd8>"
      ]
     },
     "metadata": {},
     "output_type": "display_data"
    }
   ],
   "source": [
    "fig, (ax1, ax2) = ut.plot_lr_eps(alg_params)\n",
    "plt.tight_layout()\n",
    "plt.show()"
   ]
  },
  {
   "cell_type": "code",
   "execution_count": 20,
   "metadata": {
    "collapsed": true
   },
   "outputs": [],
   "source": [
    "# INITIAL CONDITIONS\n",
    "# Comment 'init_q_path' for a flat policy\n",
    "#alg_params['init_q_path'] = '../data/' + system_name + '/et1/best_quality.txt' \n",
    "# If 'init_q_path' is present, 'init_quals' is ignored\n",
    "alg_params['init_quals'] = 3000"
   ]
  },
  {
   "cell_type": "code",
   "execution_count": 21,
   "metadata": {
    "collapsed": true
   },
   "outputs": [],
   "source": [
    "# WRITING THE PARAMETERS\n",
    "ut.write_params(env_params, data_dir, \"param_env.txt\")\n",
    "ut.write_params(alg_params, data_dir, \"param_alg.txt\")"
   ]
  },
  {
   "cell_type": "code",
   "execution_count": null,
   "metadata": {
    "collapsed": true
   },
   "outputs": [],
   "source": []
  },
  {
   "cell_type": "code",
   "execution_count": null,
   "metadata": {
    "collapsed": true
   },
   "outputs": [],
   "source": []
  }
 ],
 "metadata": {
  "kernelspec": {
   "display_name": "Python 3",
   "language": "python",
   "name": "python3"
  },
  "language_info": {
   "codemirror_mode": {
    "name": "ipython",
    "version": 3
   },
   "file_extension": ".py",
   "mimetype": "text/x-python",
   "name": "python",
   "nbconvert_exporter": "python",
   "pygments_lexer": "ipython3",
   "version": "3.6.3"
  }
 },
 "nbformat": 4,
 "nbformat_minor": 4
}
