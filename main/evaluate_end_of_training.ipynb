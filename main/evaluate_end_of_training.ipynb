{
 "cells": [
  {
   "cell_type": "code",
   "execution_count": 161,
   "metadata": {
    "collapsed": true
   },
   "outputs": [],
   "source": [
    "import os\n",
    "import subprocess\n",
    "import numpy as np\n",
    "import matplotlib.pyplot as plt\n",
    "import utils as ut\n",
    "\n",
    "system_name = 'kite3d'\n",
    "run_name = 'helix5'\n",
    "#source_dir = '../data/'+system_name+'/'+run_name+'/'\n",
    "#data_dir = '../data/'+system_name+'/'+run_name+'_eval/'\n",
    "data_dir = '../data/'+system_name+'/'+run_name+'/'\n",
    "plot_dir = '../plots/'+system_name+'/'+run_name+'/'"
   ]
  },
  {
   "cell_type": "markdown",
   "metadata": {},
   "source": [
    "## Evaluate"
   ]
  },
  {
   "cell_type": "code",
   "execution_count": 162,
   "metadata": {},
   "outputs": [
    {
     "name": "stdout",
     "output_type": "stream",
     "text": [
      "int_steps 0.001\n",
      "ep_length 200.0\n",
      "ep_length_eval 600.0\n",
      "decision_time 0.25\n",
      "alphas [  6.   8.  10.  12.  14.  16.  18.  20.]\n",
      "CL_alphas [ 0.65  0.75  0.82  0.9   1.    1.08  1.1   1.05]\n",
      "CD_alphas [ 0.05  0.07  0.09  0.1   0.13  0.18  0.18  0.21]\n",
      "init_theta 1.0471975511965976\n",
      "init_dtheta 0.0\n",
      "init_alpha 7.0\n",
      "beta_bins [-1.57079633 -1.22173048 -0.87266463 -0.52359878 -0.17453293  0.17453293\n",
      "  0.52359878  0.87266463  1.22173048  1.57079633]\n",
      "banks [-0.26179939 -0.20943951 -0.15707963 -0.10471976 -0.05235988  0.\n",
      "  0.05235988  0.10471976  0.15707963  0.20943951  0.26179939]\n",
      "init_bank 12.0\n",
      "init_phi 0.0\n",
      "init_dphi 0.0\n",
      "wind_type const\n",
      "v_wind_x 12.0\n",
      "v_wind_y 0.0\n",
      "v_wind_z 0.0\n",
      "alg_type sarsa\n",
      "gamma 1.0\n",
      "n_steps 15000000.0\n",
      "traj_points 1000.0\n",
      "eval_steps 10000.0\n",
      "lr0 0.1\n",
      "lr1 0.01\n",
      "n0 10000.0\n",
      "lrc 100000.0\n",
      "lr_expn 0.6\n",
      "lr_burn0 7500000.0\n",
      "lr_burn1 7500000.0\n",
      "eps0 0.1\n",
      "epsc 100000.0\n",
      "eps_expn 0.6\n",
      "eps_burn 7500000.0\n",
      "init_quals 3000.0\n"
     ]
    }
   ],
   "source": [
    "# READING THE ENVIRONMENTAL PARAMETERS\n",
    "env_params = ut.read_params(data_dir+'param_env.txt')\n",
    "for ep in env_params:\n",
    "    print(ep, env_params[ep])\n",
    "alg_params = ut.read_params(data_dir+'param_alg.txt')\n",
    "for ep in alg_params:\n",
    "    print(ep, alg_params[ep])\n",
    "#eps = ut.p_law_burn(alg_params['n_steps'], alg_params['eps_burn'], alg_params['eps_expn'], alg_params['eps0'], alg_params['epsc'])"
   ]
  },
  {
   "cell_type": "code",
   "execution_count": 163,
   "metadata": {
    "collapsed": true
   },
   "outputs": [],
   "source": [
    "s_traj, s_head = ut.read_traj(data_dir + 'ev_states.txt')"
   ]
  },
  {
   "cell_type": "code",
   "execution_count": 164,
   "metadata": {
    "collapsed": true
   },
   "outputs": [],
   "source": [
    "xs = np.linspace(0, alg_params['eval_steps']*env_params['decision_time'], int(alg_params['eval_steps']))"
   ]
  },
  {
   "cell_type": "code",
   "execution_count": 165,
   "metadata": {},
   "outputs": [
    {
     "data": {
      "image/png": "[encoded data removed]",
      "text/plain": [
       "<matplotlib.figure.Figure at 0x10e11a128>"
      ]
     },
     "metadata": {},
     "output_type": "display_data"
    }
   ],
   "source": [
    "fig, (ax1, ax2, ax3) = plt.subplots(1,3, figsize=(12,3.5))\n",
    "\n",
    "lim = [0,2500]\n",
    "\n",
    "ax1.set_xlim(lim)\n",
    "#ax1.set_ylim(0,3000)\n",
    "ax1.set_xlabel('Time, seconds', fontsize=14)\n",
    "ax1.set_ylabel('Kite x, meters', fontsize=14)\n",
    "ax1.plot(xs, s_traj[:,0])\n",
    "\n",
    "ax2.set_xlim(lim)\n",
    "ax2.set_xlabel('Time, seconds', fontsize=14)\n",
    "ax2.set_ylabel('Kite y, meters', fontsize=14)\n",
    "ax2.plot(xs, s_traj[:,1])\n",
    "\n",
    "ax3.set_xlim(lim)\n",
    "ax3.set_xlabel('Time, seconds', fontsize=14)\n",
    "ax3.set_ylabel('Kite z, meters', fontsize=14)\n",
    "ax3.plot(xs, s_traj[:,2])\n",
    "\n",
    "plt.tight_layout()\n",
    "plt.savefig(plot_dir+\"eval_traj_true.png\", dpi=200)\n",
    "plt.show()"
   ]
  },
  {
   "cell_type": "code",
   "execution_count": 166,
   "metadata": {},
   "outputs": [
    {
     "name": "stdout",
     "output_type": "stream",
     "text": [
      "['state_index', 'state_descr', 'acion_index', 'action_decr', 'reward']\n"
     ]
    }
   ],
   "source": [
    "info_traj, labels = ut.read_traj(data_dir+'ev_info.txt')\n",
    "info_i_traj = np.array(info_traj[:,0], dtype=int)\n",
    "print(labels)"
   ]
  },
  {
   "cell_type": "code",
   "execution_count": 167,
   "metadata": {
    "collapsed": true
   },
   "outputs": [],
   "source": [
    "beta_list = []\n",
    "for i in range(len(env_params['beta_bins'])-1):\n",
    "    beta_list.append((env_params['beta_bins'][i] + env_params['beta_bins'][i+1])/2.0)"
   ]
  },
  {
   "cell_type": "code",
   "execution_count": 168,
   "metadata": {
    "collapsed": true
   },
   "outputs": [],
   "source": [
    "def aggr_state_index_translator(index, n_betas, n_banks):\n",
    "    if system_name != \"kite3d\":\n",
    "        beta = index % n_betas\n",
    "        rest = index // n_betas\n",
    "        bank = rest % n_banks\n",
    "        alpha = rest // n_banks\n",
    "    else:\n",
    "        beta = index % n_betas\n",
    "        bank = index % n_banks\n",
    "        alpha = index // n_banks\n",
    "    return beta, bank, alpha"
   ]
  },
  {
   "cell_type": "code",
   "execution_count": 169,
   "metadata": {
    "collapsed": true
   },
   "outputs": [],
   "source": [
    "beta_i, bank_i, alpha_i = aggr_state_index_translator(info_i_traj, len(env_params['beta_bins'])-1, len(env_params['banks']))\n",
    "alphas = np.take(env_params['alphas'], alpha_i)\n",
    "banks = np.take(env_params['banks'], bank_i)\n",
    "betas = np.take(beta_list, beta_i)"
   ]
  },
  {
   "cell_type": "code",
   "execution_count": 170,
   "metadata": {},
   "outputs": [
    {
     "data": {
      "image/png": "[encoded data removed]",
      "text/plain": [
       "<matplotlib.figure.Figure at 0x11c611e80>"
      ]
     },
     "metadata": {},
     "output_type": "display_data"
    }
   ],
   "source": [
    "if system_name != \"kite3d\":\n",
    "    fig, (ax1, ax2, ax3) = plt.subplots(1,3, figsize=(12,3.5))\n",
    "else:\n",
    "    fig, (ax1, ax2) = plt.subplots(1,2, figsize=(12,5))\n",
    "\n",
    "x_wind = [0,2500]\n",
    "\n",
    "ax1.set_xlabel('Time, seconds', fontsize=14)\n",
    "ax1.set_ylabel('Attack angle', fontsize=14)\n",
    "ax1.set_xlim(x_wind)\n",
    "ax1.plot(xs, alphas)\n",
    "\n",
    "ax2.set_xlabel('Time, seconds', fontsize=14)\n",
    "ax2.set_ylabel('Bank angle', fontsize=14)\n",
    "ax2.set_xlim(x_wind)\n",
    "ax2.plot(xs, banks)\n",
    "\n",
    "if system_name != \"kite3d\":\n",
    "    ax3.set_xlabel('Time, seconds', fontsize=14)\n",
    "    ax3.set_ylabel('Vrel angle', fontsize=14)\n",
    "    ax3.set_xlim(x_wind)\n",
    "    ax3.plot(xs, betas)\n",
    "\n",
    "plt.tight_layout()\n",
    "plt.savefig(plot_dir+\"eval_pol.png\", dpi=200)\n",
    "plt.show()"
   ]
  },
  {
   "cell_type": "code",
   "execution_count": 171,
   "metadata": {
    "collapsed": true
   },
   "outputs": [],
   "source": [
    "def bins_from_list(l):\n",
    "    bins = np.array([(l[i] + l[i+1])/2 for i in range(len(l)-1)])\n",
    "    bins = np.append(2*l[0] - bins[0], bins)\n",
    "    bins = np.append(bins, 2*l[-1] - bins[-1])\n",
    "    return bins"
   ]
  },
  {
   "cell_type": "code",
   "execution_count": 172,
   "metadata": {},
   "outputs": [
    {
     "data": {
      "image/png": "[encoded data removed]",
      "text/plain": [
       "<matplotlib.figure.Figure at 0x11149f7f0>"
      ]
     },
     "metadata": {},
     "output_type": "display_data"
    }
   ],
   "source": [
    "if system_name != \"kite3d\":\n",
    "    fig, (ax1, ax2, ax3) = plt.subplots(1,3, figsize=(12,3.5))\n",
    "else:\n",
    "    fig, (ax1, ax2) = plt.subplots(1,2, figsize=(12,5))\n",
    "\n",
    "ax1.set_ylabel('Counts', fontsize=14)\n",
    "ax1.set_xlabel('Attack angle', fontsize=14)\n",
    "bins = bins_from_list(env_params['alphas'])\n",
    "ax1.set_xticks(env_params['alphas'])\n",
    "ax1.hist(alphas, bins=bins, align='mid', rwidth=0.8)\n",
    "\n",
    "ax2.set_ylabel('Counts', fontsize=14)\n",
    "ax2.set_xlabel('Bank angle', fontsize=14)\n",
    "bins = bins_from_list(env_params['banks'])\n",
    "#ax2.set_xticks(env_params['banks'])\n",
    "ax2.hist(banks, bins=bins, align='mid', rwidth=0.8)\n",
    "\n",
    "if system_name != \"kite3d\":\n",
    "    ax3.set_ylabel('Counts', fontsize=14)\n",
    "    ax3.set_xlabel('Vrel angle', fontsize=14)\n",
    "    bins = bins_from_list(beta_list)\n",
    "    #ax2.set_xticks(env_params['banks'])\n",
    "    ax3.hist(betas, bins=bins, align='mid', rwidth=0.8)\n",
    "\n",
    "plt.tight_layout()\n",
    "plt.savefig(plot_dir+\"aggr_states.png\", dpi=200)\n",
    "plt.show()"
   ]
  },
  {
   "cell_type": "code",
   "execution_count": 173,
   "metadata": {
    "collapsed": true
   },
   "outputs": [],
   "source": [
    "return_s_traj, head = ut.read_traj(data_dir+'return_traj.txt')\n",
    "return_i_steps = np.array(return_s_traj[:,1], dtype=int)"
   ]
  },
  {
   "cell_type": "code",
   "execution_count": 174,
   "metadata": {},
   "outputs": [
    {
     "data": {
      "image/png": "[encoded data removed]",
      "text/plain": [
       "<matplotlib.figure.Figure at 0x1116f4ac8>"
      ]
     },
     "metadata": {},
     "output_type": "display_data"
    }
   ],
   "source": [
    "g=plt.hist(return_i_steps/4, bins = 100, density = False)\n",
    "plt.xlabel('Episode length (seconds)')\n",
    "plt.ylabel('Counts')\n",
    "#plt.xlim(0,1000)\n",
    "plt.savefig(plot_dir+\"hist_endtimes.png\", dpi=200)\n",
    "plt.show()"
   ]
  },
  {
   "cell_type": "code",
   "execution_count": 175,
   "metadata": {},
   "outputs": [
    {
     "name": "stdout",
     "output_type": "stream",
     "text": [
      "[  5.28000000e+02   5.76000000e+02   3.82000000e+02   3.68000000e+02\n",
      "   3.29000000e+02   3.79000000e+02   4.11000000e+02   3.72000000e+02\n",
      "   5.18000000e+02   6.03000000e+02   8.50000000e+02   1.60900000e+03\n",
      "   2.74000000e+03   2.05900000e+03   2.25400000e+03   2.06200000e+03\n",
      "   1.52400000e+03   1.52800000e+03   1.64300000e+03   1.33300000e+03\n",
      "   9.15000000e+02   6.23000000e+02   5.58000000e+02   4.71000000e+02\n",
      "   3.46000000e+02   3.12000000e+02   2.49000000e+02   2.39000000e+02\n",
      "   2.22000000e+02   1.98000000e+02   1.75000000e+02   1.67000000e+02\n",
      "   1.47000000e+02   1.52000000e+02   1.22000000e+02   1.10000000e+02\n",
      "   1.08000000e+02   1.11000000e+02   8.40000000e+01   8.00000000e+01\n",
      "   7.80000000e+01   6.00000000e+01   6.10000000e+01   7.90000000e+01\n",
      "   5.80000000e+01   5.40000000e+01   5.10000000e+01   6.50000000e+01\n",
      "   5.20000000e+01   4.10000000e+01   4.60000000e+01   3.50000000e+01\n",
      "   3.70000000e+01   3.70000000e+01   3.70000000e+01   3.40000000e+01\n",
      "   3.10000000e+01   3.40000000e+01   3.10000000e+01   3.70000000e+01\n",
      "   3.50000000e+01   3.70000000e+01   2.40000000e+01   1.80000000e+01\n",
      "   2.40000000e+01   3.10000000e+01   2.80000000e+01   1.60000000e+01\n",
      "   2.00000000e+01   2.10000000e+01   1.90000000e+01   2.20000000e+01\n",
      "   1.30000000e+01   1.70000000e+01   1.50000000e+01   1.50000000e+01\n",
      "   2.00000000e+01   1.80000000e+01   1.00000000e+01   1.30000000e+01\n",
      "   1.30000000e+01   2.10000000e+01   1.40000000e+01   1.80000000e+01\n",
      "   1.10000000e+01   8.00000000e+00   8.00000000e+00   1.30000000e+01\n",
      "   1.60000000e+01   1.50000000e+01   8.00000000e+00   1.50000000e+01\n",
      "   9.00000000e+00   1.20000000e+01   1.10000000e+01   1.20000000e+01\n",
      "   8.00000000e+00   7.00000000e+00   7.00000000e+00   1.30770000e+04]\n"
     ]
    }
   ],
   "source": [
    "print(g[0])"
   ]
  },
  {
   "cell_type": "code",
   "execution_count": null,
   "metadata": {
    "collapsed": true
   },
   "outputs": [],
   "source": []
  }
 ],
 "metadata": {
  "kernelspec": {
   "display_name": "Python 3",
   "language": "python",
   "name": "python3"
  },
  "language_info": {
   "codemirror_mode": {
    "name": "ipython",
    "version": 3
   },
   "file_extension": ".py",
   "mimetype": "text/x-python",
   "name": "python",
   "nbconvert_exporter": "python",
   "pygments_lexer": "ipython3",
   "version": "3.6.3"
  }
 },
 "nbformat": 4,
 "nbformat_minor": 2
}
