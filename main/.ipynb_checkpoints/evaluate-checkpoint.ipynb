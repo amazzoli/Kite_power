{
 "cells": [
  {
   "cell_type": "code",
   "execution_count": 1,
   "metadata": {},
   "outputs": [],
   "source": [
    "system_name = 'kite2d'\n",
    "data_dir = '../data/'"
   ]
  },
  {
   "cell_type": "code",
   "execution_count": 2,
   "metadata": {},
   "outputs": [],
   "source": [
    "run_name = 'prova'\n",
    "\n",
    "params = dict()\n",
    "\n",
    "# EVALUATION PARAMETERS\n",
    "params['n_steps'] = 100000\n",
    "params['traj_steps'] = 50"
   ]
  },
  {
   "cell_type": "code",
   "execution_count": 3,
   "metadata": {},
   "outputs": [],
   "source": [
    "# WRITING THE PARAMETERS\n",
    "f = open(data_dir + system_name + '/' + run_name + \"/ev_params.txt\", \"w\")\n",
    "for k,v in params.items():\n",
    "    f.write(k + \"\\t\" + str(v) + \"\\n\")\n",
    "f.close()"
   ]
  },
  {
   "cell_type": "code",
   "execution_count": 23,
   "metadata": {},
   "outputs": [
    {
     "name": "stdout",
     "output_type": "stream",
     "text": [
      "\n"
     ]
    }
   ],
   "source": [
    "# COMPILING C++ SCRIPT\n",
    "import subprocess\n",
    "p = subprocess.Popen([\"g++\", \"-o\", \"evaluate.exe\", \"evaluate.cpp\", \"../lib/eval.cpp\", \"../lib/utils.cpp\", \n",
    "                      \"../lib/envs/kite.cpp\", \"../lib/envs/\"+system_name+\".cpp\", \"-std=c++17\"], \n",
    "                      stdout=subprocess.PIPE, stderr=subprocess.PIPE)\n",
    "print(p.communicate()[1].decode('utf-8'))\n",
    "#print(p.communicate()[1].decode('utf-8'))"
   ]
  },
  {
   "cell_type": "code",
   "execution_count": 24,
   "metadata": {},
   "outputs": [
    {
     "name": "stdout",
     "output_type": "stream",
     "text": [
      "CPU times: user 2.23 ms, sys: 819 µs, total: 3.05 ms\n",
      "Wall time: 2.84 ms\n",
      "\n"
     ]
    }
   ],
   "source": [
    "# EXECUTING THE SCRIPT\n",
    "%time p = subprocess.Popen([\"./evaluate.exe\", system_name, run_name], stdout=subprocess.PIPE)\n",
    "print(p.communicate()[0].decode('utf-8'))"
   ]
  },
  {
   "cell_type": "code",
   "execution_count": null,
   "metadata": {},
   "outputs": [],
   "source": []
  }
 ],
 "metadata": {
  "kernelspec": {
   "display_name": "Python 3",
   "language": "python",
   "name": "python3"
  },
  "language_info": {
   "codemirror_mode": {
    "name": "ipython",
    "version": 3
   },
   "file_extension": ".py",
   "mimetype": "text/x-python",
   "name": "python",
   "nbconvert_exporter": "python",
   "pygments_lexer": "ipython3",
   "version": "3.6.6"
  }
 },
 "nbformat": 4,
 "nbformat_minor": 2
}
