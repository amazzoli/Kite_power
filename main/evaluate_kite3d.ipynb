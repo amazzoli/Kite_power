{
 "cells": [
  {
   "cell_type": "code",
   "execution_count": 1,
   "metadata": {},
   "outputs": [],
   "source": [
    "import os\n",
    "import subprocess\n",
    "import numpy as np\n",
    "import matplotlib.pyplot as plt\n",
    "import utils as ut\n",
    "\n",
    "system_name = 'kite3d'\n",
    "run_name = 'sarsa_easy6'\n",
    "source_dir = '../data/'+system_name+'/'+run_name+'/'\n",
    "data_dir = '../data/'+system_name+'/'+run_name+'_eval/'\n",
    "plot_dir = '../plots/'+system_name+'/'+run_name+'/'"
   ]
  },
  {
   "cell_type": "markdown",
   "metadata": {},
   "source": [
    "## Evaluate the 3d kite"
   ]
  },
  {
   "cell_type": "code",
   "execution_count": 2,
   "metadata": {},
   "outputs": [
    {
     "name": "stdout",
     "output_type": "stream",
     "text": [
      "{'int_steps': 0.001, 'ep_length': 100.0, 'decision_time': 1.0, 'init_theta': 0.7853981633974483, 'init_dtheta': 0.0, 'init_phi': 0.0, 'init_dphi': 0.0, 'alphas': array([ 8., 12., 14., 16., 18., 20.]), 'CL_alphas': array([0.75, 0.9 , 1.  , 1.08, 1.1 , 1.05]), 'CD_alphas': array([0.07, 0.1 , 0.13, 0.18, 0.18, 0.21]), 'init_alpha': 5.0, 'banks': array([-0.06981317, -0.03490659, -0.01745329,  0.        ,  0.01745329,\n",
      "        0.03490659,  0.06981317]), 'init_bank': 3.0, 'wind_type': 'const', 'v_wind_x': 15.0, 'v_wind_y': 0.0, 'v_wind_z': 0.0}\n"
     ]
    }
   ],
   "source": [
    "# READING THE ENVIRONMENTAL PARAMETERS\n",
    "env_params = ut.read_params(source_dir+'param_env.txt')\n",
    "print(env_params)"
   ]
  },
  {
   "cell_type": "code",
   "execution_count": 3,
   "metadata": {},
   "outputs": [],
   "source": [
    "# WRITING THE EVALUATION PARAMETERS\n",
    "params = dict()\n",
    "params['alg_type'] = 'eval'\n",
    "params['policy_path'] = source_dir+'/best_policy.txt'\n",
    "params['ev_time'] = 100 # sec\n",
    "params['n_steps'] = params['ev_time']/float(env_params['decision_time'])+1\n",
    "params['traj_points'] = params['n_steps']\n",
    "params['gamma'] = 1\n",
    "ut.write_params(params, data_dir, 'param_alg.txt')\n",
    "\n",
    "#env_params['ep_length'] = params['ev_time']-1\n",
    "ut.write_params(env_params, data_dir, 'param_env.txt')"
   ]
  },
  {
   "cell_type": "code",
   "execution_count": 4,
   "metadata": {},
   "outputs": [
    {
     "name": "stdout",
     "output_type": "stream",
     "text": [
      "\n"
     ]
    }
   ],
   "source": [
    "p = subprocess.Popen([\"./run.exe\", system_name, run_name+'_eval'], stdout=subprocess.PIPE, stderr=subprocess.PIPE)\n",
    "print(p.stderr.read().decode('utf-8'))"
   ]
  },
  {
   "cell_type": "code",
   "execution_count": 5,
   "metadata": {},
   "outputs": [],
   "source": [
    "f = open(data_dir + \"ev_states.txt\", \"r\")\n",
    "st_traj = []\n",
    "st_labels = f.readline().split()\n",
    "for line in f.readlines():\n",
    "    st_traj.append(line.split())\n",
    "st_traj = np.array(st_traj, dtype='float')\n",
    "#st_traj = np.loadtxt(data_dir + system_name + '/' + run_name + \"/ev_states.txt\", dtype='float')\n",
    "\n",
    "traj_x=st_traj[:,0]\n",
    "traj_y=st_traj[:,1]\n",
    "traj_z=st_traj[:,2]"
   ]
  },
  {
   "cell_type": "code",
   "execution_count": 6,
   "metadata": {},
   "outputs": [],
   "source": [
    "xs = np.linspace(0, params['ev_time'], num=len(st_traj[:,0]))"
   ]
  },
  {
   "cell_type": "code",
   "execution_count": 7,
   "metadata": {},
   "outputs": [
    {
     "data": {
      "image/png": "[encoded data removed]",
      "text/plain": [
       "<Figure size 864x252 with 3 Axes>"
      ]
     },
     "metadata": {
      "needs_background": "light"
     },
     "output_type": "display_data"
    }
   ],
   "source": [
    "fig, (ax1, ax2, ax3) = plt.subplots(1,3, figsize=(12,3.5))\n",
    "\n",
    "ax1.set_xlabel('Time, seconds', fontsize=14)\n",
    "ax1.set_ylabel('Kite x, meters', fontsize=14)\n",
    "ax1.plot(xs, traj_x)\n",
    "\n",
    "ax2.set_xlabel('Time, seconds', fontsize=14)\n",
    "ax2.set_ylabel('Kite y, meters', fontsize=14)\n",
    "ax2.plot(xs, traj_y)\n",
    "\n",
    "ax3.set_xlabel('Time, seconds', fontsize=14)\n",
    "ax3.set_ylabel('Kite z, meters', fontsize=14)\n",
    "ax3.plot(xs, traj_z)\n",
    "\n",
    "plt.tight_layout()\n",
    "plt.savefig(plot_dir+\"eval_traj.png\", dpi=200)"
   ]
  },
  {
   "cell_type": "code",
   "execution_count": null,
   "metadata": {},
   "outputs": [],
   "source": []
  }
 ],
 "metadata": {
  "kernelspec": {
   "display_name": "Python 3",
   "language": "python",
   "name": "python3"
  },
  "language_info": {
   "codemirror_mode": {
    "name": "ipython",
    "version": 3
   },
   "file_extension": ".py",
   "mimetype": "text/x-python",
   "name": "python",
   "nbconvert_exporter": "python",
   "pygments_lexer": "ipython3",
   "version": "3.6.6"
  }
 },
 "nbformat": 4,
 "nbformat_minor": 2
}
